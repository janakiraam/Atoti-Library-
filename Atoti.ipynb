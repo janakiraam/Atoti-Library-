{
 "cells": [
  {
   "cell_type": "code",
   "execution_count": 11,
   "id": "measured-maker",
   "metadata": {},
   "outputs": [
    {
     "name": "stdout",
     "output_type": "stream",
     "text": [
      "Requirement already satisfied: atoti-jupyterlab in c:\\users\\i340968\\anaconda3\\lib\\site-packages (0.5.4)\n",
      "Requirement already satisfied: atoti==0.5.4 in c:\\users\\i340968\\anaconda3\\lib\\site-packages (from atoti-jupyterlab) (0.5.4)\n",
      "Requirement already satisfied: jupyterlab~=3.0 in c:\\users\\i340968\\anaconda3\\lib\\site-packages (from atoti-jupyterlab) (3.0.14)\n",
      "Requirement already satisfied: pyyaml in c:\\users\\i340968\\anaconda3\\lib\\site-packages (from atoti==0.5.4->atoti-jupyterlab) (5.4.1)\n",
      "Requirement already satisfied: pyarrow~=3.0 in c:\\users\\i340968\\anaconda3\\lib\\site-packages (from atoti==0.5.4->atoti-jupyterlab) (3.0.0)\n",
      "Requirement already satisfied: jdk4py==11.0.9.0 in c:\\users\\i340968\\anaconda3\\lib\\site-packages (from atoti==0.5.4->atoti-jupyterlab) (11.0.9.0)\n",
      "Requirement already satisfied: numpy!=1.19.4 in c:\\users\\i340968\\anaconda3\\lib\\site-packages (from atoti==0.5.4->atoti-jupyterlab) (1.19.2)\n",
      "Requirement already satisfied: typing-extensions in c:\\users\\i340968\\anaconda3\\lib\\site-packages (from atoti==0.5.4->atoti-jupyterlab) (3.7.4.3)\n",
      "Requirement already satisfied: typeguard in c:\\users\\i340968\\anaconda3\\lib\\site-packages (from atoti==0.5.4->atoti-jupyterlab) (2.12.0)\n",
      "Requirement already satisfied: pandas in c:\\users\\i340968\\anaconda3\\lib\\site-packages (from atoti==0.5.4->atoti-jupyterlab) (1.2.1)\n",
      "Requirement already satisfied: jupyter-packaging~=0.7 in c:\\users\\i340968\\anaconda3\\lib\\site-packages (from jupyterlab~=3.0->atoti-jupyterlab) (0.10.1)\n",
      "Requirement already satisfied: jupyterlab-server~=2.3 in c:\\users\\i340968\\anaconda3\\lib\\site-packages (from jupyterlab~=3.0->atoti-jupyterlab) (2.5.0)\n",
      "Requirement already satisfied: packaging in c:\\users\\i340968\\anaconda3\\lib\\site-packages (from jupyterlab~=3.0->atoti-jupyterlab) (20.9)\n",
      "Requirement already satisfied: tornado>=6.1.0 in c:\\users\\i340968\\anaconda3\\lib\\site-packages (from jupyterlab~=3.0->atoti-jupyterlab) (6.1)\n",
      "Requirement already satisfied: jinja2>=2.10 in c:\\users\\i340968\\anaconda3\\lib\\site-packages (from jupyterlab~=3.0->atoti-jupyterlab) (2.11.2)\n",
      "Requirement already satisfied: nbclassic~=0.2 in c:\\users\\i340968\\anaconda3\\lib\\site-packages (from jupyterlab~=3.0->atoti-jupyterlab) (0.2.7)\n",
      "Requirement already satisfied: jupyter-core in c:\\users\\i340968\\anaconda3\\lib\\site-packages (from jupyterlab~=3.0->atoti-jupyterlab) (4.7.0)\n",
      "Requirement already satisfied: ipython in c:\\users\\i340968\\anaconda3\\lib\\site-packages (from jupyterlab~=3.0->atoti-jupyterlab) (7.19.0)\n",
      "Requirement already satisfied: jupyter-server~=1.4 in c:\\users\\i340968\\anaconda3\\lib\\site-packages (from jupyterlab~=3.0->atoti-jupyterlab) (1.6.4)\n",
      "Requirement already satisfied: MarkupSafe>=0.23 in c:\\users\\i340968\\anaconda3\\lib\\site-packages (from jinja2>=2.10->jupyterlab~=3.0->atoti-jupyterlab) (1.1.1)\n",
      "Requirement already satisfied: deprecation in c:\\users\\i340968\\anaconda3\\lib\\site-packages (from jupyter-packaging~=0.7->jupyterlab~=3.0->atoti-jupyterlab) (2.1.0)\n",
      "Requirement already satisfied: wheel in c:\\users\\i340968\\anaconda3\\lib\\site-packages (from jupyter-packaging~=0.7->jupyterlab~=3.0->atoti-jupyterlab) (0.36.2)\n",
      "Requirement already satisfied: tomlkit in c:\\users\\i340968\\anaconda3\\lib\\site-packages (from jupyter-packaging~=0.7->jupyterlab~=3.0->atoti-jupyterlab) (0.7.0)\n",
      "Requirement already satisfied: setuptools>=46.4.0 in c:\\users\\i340968\\anaconda3\\lib\\site-packages (from jupyter-packaging~=0.7->jupyterlab~=3.0->atoti-jupyterlab) (52.0.0.post20210125)\n",
      "Requirement already satisfied: traitlets>=4.2.1 in c:\\users\\i340968\\anaconda3\\lib\\site-packages (from jupyter-server~=1.4->jupyterlab~=3.0->atoti-jupyterlab) (5.0.5)\n",
      "Requirement already satisfied: pyzmq>=17 in c:\\users\\i340968\\anaconda3\\lib\\site-packages (from jupyter-server~=1.4->jupyterlab~=3.0->atoti-jupyterlab) (20.0.0)\n",
      "Requirement already satisfied: terminado>=0.8.3 in c:\\users\\i340968\\anaconda3\\lib\\site-packages (from jupyter-server~=1.4->jupyterlab~=3.0->atoti-jupyterlab) (0.9.2)\n",
      "Requirement already satisfied: pywin32>=1.0 in c:\\users\\i340968\\anaconda3\\lib\\site-packages (from jupyter-server~=1.4->jupyterlab~=3.0->atoti-jupyterlab) (227)\n",
      "Requirement already satisfied: prometheus-client in c:\\users\\i340968\\anaconda3\\lib\\site-packages (from jupyter-server~=1.4->jupyterlab~=3.0->atoti-jupyterlab) (0.9.0)\n",
      "Requirement already satisfied: argon2-cffi in c:\\users\\i340968\\anaconda3\\lib\\site-packages (from jupyter-server~=1.4->jupyterlab~=3.0->atoti-jupyterlab) (20.1.0)\n",
      "Requirement already satisfied: Send2Trash in c:\\users\\i340968\\anaconda3\\lib\\site-packages (from jupyter-server~=1.4->jupyterlab~=3.0->atoti-jupyterlab) (1.5.0)\n",
      "Requirement already satisfied: anyio<3,>=2.0.2 in c:\\users\\i340968\\anaconda3\\lib\\site-packages (from jupyter-server~=1.4->jupyterlab~=3.0->atoti-jupyterlab) (2.2.0)\n",
      "Requirement already satisfied: nbconvert in c:\\users\\i340968\\anaconda3\\lib\\site-packages (from jupyter-server~=1.4->jupyterlab~=3.0->atoti-jupyterlab) (6.0.7)\n",
      "Requirement already satisfied: ipython-genutils in c:\\users\\i340968\\anaconda3\\lib\\site-packages (from jupyter-server~=1.4->jupyterlab~=3.0->atoti-jupyterlab) (0.2.0)\n",
      "Requirement already satisfied: jupyter-client>=6.1.1 in c:\\users\\i340968\\anaconda3\\lib\\site-packages (from jupyter-server~=1.4->jupyterlab~=3.0->atoti-jupyterlab) (6.1.7)\n",
      "Requirement already satisfied: nbformat in c:\\users\\i340968\\anaconda3\\lib\\site-packages (from jupyter-server~=1.4->jupyterlab~=3.0->atoti-jupyterlab) (5.1.2)\n",
      "Requirement already satisfied: sniffio>=1.1 in c:\\users\\i340968\\anaconda3\\lib\\site-packages (from anyio<3,>=2.0.2->jupyter-server~=1.4->jupyterlab~=3.0->atoti-jupyterlab) (1.2.0)\n",
      "Requirement already satisfied: idna>=2.8 in c:\\users\\i340968\\anaconda3\\lib\\site-packages (from anyio<3,>=2.0.2->jupyter-server~=1.4->jupyterlab~=3.0->atoti-jupyterlab) (2.10)\n",
      "Requirement already satisfied: python-dateutil>=2.1 in c:\\users\\i340968\\anaconda3\\lib\\site-packages (from jupyter-client>=6.1.1->jupyter-server~=1.4->jupyterlab~=3.0->atoti-jupyterlab) (2.8.1)\n",
      "Requirement already satisfied: babel in c:\\users\\i340968\\anaconda3\\lib\\site-packages (from jupyterlab-server~=2.3->jupyterlab~=3.0->atoti-jupyterlab) (2.9.0)\n",
      "Requirement already satisfied: json5 in c:\\users\\i340968\\anaconda3\\lib\\site-packages (from jupyterlab-server~=2.3->jupyterlab~=3.0->atoti-jupyterlab) (0.9.5)\n",
      "Requirement already satisfied: jsonschema>=3.0.1 in c:\\users\\i340968\\anaconda3\\lib\\site-packages (from jupyterlab-server~=2.3->jupyterlab~=3.0->atoti-jupyterlab) (3.2.0)\n",
      "Requirement already satisfied: requests in c:\\users\\i340968\\anaconda3\\lib\\site-packages (from jupyterlab-server~=2.3->jupyterlab~=3.0->atoti-jupyterlab) (2.24.0)\n",
      "Requirement already satisfied: attrs>=17.4.0 in c:\\users\\i340968\\anaconda3\\lib\\site-packages (from jsonschema>=3.0.1->jupyterlab-server~=2.3->jupyterlab~=3.0->atoti-jupyterlab) (20.3.0)\n",
      "Requirement already satisfied: six>=1.11.0 in c:\\users\\i340968\\anaconda3\\lib\\site-packages (from jsonschema>=3.0.1->jupyterlab-server~=2.3->jupyterlab~=3.0->atoti-jupyterlab) (1.15.0)\n",
      "Requirement already satisfied: pyrsistent>=0.14.0 in c:\\users\\i340968\\anaconda3\\lib\\site-packages (from jsonschema>=3.0.1->jupyterlab-server~=2.3->jupyterlab~=3.0->atoti-jupyterlab) (0.17.3)\n",
      "Requirement already satisfied: notebook<7 in c:\\users\\i340968\\anaconda3\\lib\\site-packages (from nbclassic~=0.2->jupyterlab~=3.0->atoti-jupyterlab) (6.2.0)\n",
      "Requirement already satisfied: ipykernel in c:\\users\\i340968\\anaconda3\\lib\\site-packages (from notebook<7->nbclassic~=0.2->jupyterlab~=3.0->atoti-jupyterlab) (5.3.4)\n",
      "Requirement already satisfied: pywinpty>=0.5 in c:\\users\\i340968\\anaconda3\\lib\\site-packages (from terminado>=0.8.3->jupyter-server~=1.4->jupyterlab~=3.0->atoti-jupyterlab) (0.5.7)\n",
      "Requirement already satisfied: cffi>=1.0.0 in c:\\users\\i340968\\anaconda3\\lib\\site-packages (from argon2-cffi->jupyter-server~=1.4->jupyterlab~=3.0->atoti-jupyterlab) (1.14.4)\n",
      "Requirement already satisfied: pycparser in c:\\users\\i340968\\anaconda3\\lib\\site-packages (from cffi>=1.0.0->argon2-cffi->jupyter-server~=1.4->jupyterlab~=3.0->atoti-jupyterlab) (2.20)\n",
      "Requirement already satisfied: pytz>=2015.7 in c:\\users\\i340968\\anaconda3\\lib\\site-packages (from babel->jupyterlab-server~=2.3->jupyterlab~=3.0->atoti-jupyterlab) (2020.5)\n",
      "Requirement already satisfied: jedi>=0.10 in c:\\users\\i340968\\anaconda3\\lib\\site-packages (from ipython->jupyterlab~=3.0->atoti-jupyterlab) (0.17.2)\n",
      "Requirement already satisfied: prompt-toolkit!=3.0.0,!=3.0.1,<3.1.0,>=2.0.0 in c:\\users\\i340968\\anaconda3\\lib\\site-packages (from ipython->jupyterlab~=3.0->atoti-jupyterlab) (3.0.8)\n",
      "Requirement already satisfied: pygments in c:\\users\\i340968\\anaconda3\\lib\\site-packages (from ipython->jupyterlab~=3.0->atoti-jupyterlab) (2.7.4)\n",
      "Requirement already satisfied: colorama in c:\\users\\i340968\\appdata\\roaming\\python\\python38\\site-packages (from ipython->jupyterlab~=3.0->atoti-jupyterlab) (0.4.3)\n",
      "Requirement already satisfied: backcall in c:\\users\\i340968\\anaconda3\\lib\\site-packages (from ipython->jupyterlab~=3.0->atoti-jupyterlab) (0.2.0)\n",
      "Requirement already satisfied: decorator in c:\\users\\i340968\\anaconda3\\lib\\site-packages (from ipython->jupyterlab~=3.0->atoti-jupyterlab) (4.4.2)\n",
      "Requirement already satisfied: pickleshare in c:\\users\\i340968\\anaconda3\\lib\\site-packages (from ipython->jupyterlab~=3.0->atoti-jupyterlab) (0.7.5)\n",
      "Requirement already satisfied: parso<0.8.0,>=0.7.0 in c:\\users\\i340968\\anaconda3\\lib\\site-packages (from jedi>=0.10->ipython->jupyterlab~=3.0->atoti-jupyterlab) (0.7.0)\n",
      "Requirement already satisfied: wcwidth in c:\\users\\i340968\\anaconda3\\lib\\site-packages (from prompt-toolkit!=3.0.0,!=3.0.1,<3.1.0,>=2.0.0->ipython->jupyterlab~=3.0->atoti-jupyterlab) (0.2.5)\n",
      "Requirement already satisfied: nbclient<0.6.0,>=0.5.0 in c:\\users\\i340968\\anaconda3\\lib\\site-packages (from nbconvert->jupyter-server~=1.4->jupyterlab~=3.0->atoti-jupyterlab) (0.5.1)\n",
      "Requirement already satisfied: jupyterlab-pygments in c:\\users\\i340968\\anaconda3\\lib\\site-packages (from nbconvert->jupyter-server~=1.4->jupyterlab~=3.0->atoti-jupyterlab) (0.1.2)\n",
      "Requirement already satisfied: defusedxml in c:\\users\\i340968\\anaconda3\\lib\\site-packages (from nbconvert->jupyter-server~=1.4->jupyterlab~=3.0->atoti-jupyterlab) (0.6.0)\n",
      "Requirement already satisfied: entrypoints>=0.2.2 in c:\\users\\i340968\\anaconda3\\lib\\site-packages (from nbconvert->jupyter-server~=1.4->jupyterlab~=3.0->atoti-jupyterlab) (0.3)\n",
      "Requirement already satisfied: pandocfilters>=1.4.1 in c:\\users\\i340968\\anaconda3\\lib\\site-packages (from nbconvert->jupyter-server~=1.4->jupyterlab~=3.0->atoti-jupyterlab) (1.4.3)\n",
      "Requirement already satisfied: testpath in c:\\users\\i340968\\anaconda3\\lib\\site-packages (from nbconvert->jupyter-server~=1.4->jupyterlab~=3.0->atoti-jupyterlab) (0.4.4)\n",
      "Requirement already satisfied: bleach in c:\\users\\i340968\\anaconda3\\lib\\site-packages (from nbconvert->jupyter-server~=1.4->jupyterlab~=3.0->atoti-jupyterlab) (3.2.3)\n",
      "Requirement already satisfied: mistune<2,>=0.8.1 in c:\\users\\i340968\\anaconda3\\lib\\site-packages (from nbconvert->jupyter-server~=1.4->jupyterlab~=3.0->atoti-jupyterlab) (0.8.4)\n",
      "Requirement already satisfied: async-generator in c:\\users\\i340968\\anaconda3\\lib\\site-packages (from nbclient<0.6.0,>=0.5.0->nbconvert->jupyter-server~=1.4->jupyterlab~=3.0->atoti-jupyterlab) (1.10)\n",
      "Requirement already satisfied: nest-asyncio in c:\\users\\i340968\\anaconda3\\lib\\site-packages (from nbclient<0.6.0,>=0.5.0->nbconvert->jupyter-server~=1.4->jupyterlab~=3.0->atoti-jupyterlab) (1.4.3)\n",
      "Requirement already satisfied: webencodings in c:\\users\\i340968\\anaconda3\\lib\\site-packages (from bleach->nbconvert->jupyter-server~=1.4->jupyterlab~=3.0->atoti-jupyterlab) (0.5.1)\n",
      "Requirement already satisfied: pyparsing>=2.0.2 in c:\\users\\i340968\\anaconda3\\lib\\site-packages (from packaging->jupyterlab~=3.0->atoti-jupyterlab) (2.4.7)\n",
      "Requirement already satisfied: certifi>=2017.4.17 in c:\\users\\i340968\\anaconda3\\lib\\site-packages (from requests->jupyterlab-server~=2.3->jupyterlab~=3.0->atoti-jupyterlab) (2020.6.20)\n",
      "Requirement already satisfied: chardet<4,>=3.0.2 in c:\\users\\i340968\\anaconda3\\lib\\site-packages (from requests->jupyterlab-server~=2.3->jupyterlab~=3.0->atoti-jupyterlab) (3.0.4)\n",
      "Requirement already satisfied: urllib3!=1.25.0,!=1.25.1,<1.26,>=1.21.1 in c:\\users\\i340968\\anaconda3\\lib\\site-packages (from requests->jupyterlab-server~=2.3->jupyterlab~=3.0->atoti-jupyterlab) (1.25.10)\n"
     ]
    }
   ],
   "source": [
    "!pip install atoti-jupyterlab"
   ]
  },
  {
   "cell_type": "code",
   "execution_count": 12,
   "id": "exclusive-wedding",
   "metadata": {},
   "outputs": [
    {
     "name": "stderr",
     "output_type": "stream",
     "text": [
      "Deleting existing \"Unnamed\" session to create the new one.\n"
     ]
    }
   ],
   "source": [
    "# creating session in atoti\n",
    "\n",
    "import atoti as tt\n",
    "session = tt.create_session()"
   ]
  },
  {
   "cell_type": "code",
   "execution_count": 13,
   "id": "hundred-response",
   "metadata": {},
   "outputs": [
    {
     "name": "stderr",
     "output_type": "stream",
     "text": [
      "The store has been sampled because there are more than 10000 lines in the files to load and the appended lines. Call Session.load_all_data() to trigger the full load of the data.\n"
     ]
    }
   ],
   "source": [
    "sales_store = session.read_csv(\"FL_insurance_sample.csv\",keys=[\"policyID\"])"
   ]
  },
  {
   "cell_type": "code",
   "execution_count": 14,
   "id": "linear-sleeping",
   "metadata": {},
   "outputs": [
    {
     "name": "stderr",
     "output_type": "stream",
     "text": [
      "22 error(s) occurred while feeding the store Fl_insurance_sample. Check the store's loading_report for more details.\n"
     ]
    },
    {
     "data": {
      "text/html": [
       "<div>\n",
       "<style scoped>\n",
       "    .dataframe tbody tr th:only-of-type {\n",
       "        vertical-align: middle;\n",
       "    }\n",
       "\n",
       "    .dataframe tbody tr th {\n",
       "        vertical-align: top;\n",
       "    }\n",
       "\n",
       "    .dataframe thead th {\n",
       "        text-align: right;\n",
       "    }\n",
       "</style>\n",
       "<table border=\"1\" class=\"dataframe\">\n",
       "  <thead>\n",
       "    <tr style=\"text-align: right;\">\n",
       "      <th></th>\n",
       "      <th>statecode</th>\n",
       "      <th>county</th>\n",
       "      <th>eq_site_limit</th>\n",
       "      <th>hu_site_limit</th>\n",
       "      <th>fl_site_limit</th>\n",
       "      <th>fr_site_limit</th>\n",
       "      <th>tiv_2011</th>\n",
       "      <th>tiv_2012</th>\n",
       "      <th>eq_site_deductible</th>\n",
       "      <th>hu_site_deductible</th>\n",
       "      <th>fl_site_deductible</th>\n",
       "      <th>fr_site_deductible</th>\n",
       "      <th>point_latitude</th>\n",
       "      <th>point_longitude</th>\n",
       "      <th>line</th>\n",
       "      <th>construction</th>\n",
       "      <th>point_granularity</th>\n",
       "    </tr>\n",
       "    <tr>\n",
       "      <th>policyID</th>\n",
       "      <th></th>\n",
       "      <th></th>\n",
       "      <th></th>\n",
       "      <th></th>\n",
       "      <th></th>\n",
       "      <th></th>\n",
       "      <th></th>\n",
       "      <th></th>\n",
       "      <th></th>\n",
       "      <th></th>\n",
       "      <th></th>\n",
       "      <th></th>\n",
       "      <th></th>\n",
       "      <th></th>\n",
       "      <th></th>\n",
       "      <th></th>\n",
       "      <th></th>\n",
       "    </tr>\n",
       "  </thead>\n",
       "  <tbody>\n",
       "    <tr>\n",
       "      <th>119736</th>\n",
       "      <td>FL</td>\n",
       "      <td>CLAY COUNTY</td>\n",
       "      <td>498960.0</td>\n",
       "      <td>498960.00</td>\n",
       "      <td>498960.0</td>\n",
       "      <td>498960.0</td>\n",
       "      <td>498960.00</td>\n",
       "      <td>792148.90</td>\n",
       "      <td>0.0</td>\n",
       "      <td>9979.2</td>\n",
       "      <td>0</td>\n",
       "      <td>0</td>\n",
       "      <td>30.102261</td>\n",
       "      <td>-81.711777</td>\n",
       "      <td>Residential</td>\n",
       "      <td>Masonry</td>\n",
       "      <td>1</td>\n",
       "    </tr>\n",
       "    <tr>\n",
       "      <th>448094</th>\n",
       "      <td>FL</td>\n",
       "      <td>CLAY COUNTY</td>\n",
       "      <td>1322376.3</td>\n",
       "      <td>1322376.30</td>\n",
       "      <td>1322376.3</td>\n",
       "      <td>1322376.3</td>\n",
       "      <td>1322376.30</td>\n",
       "      <td>1438163.57</td>\n",
       "      <td>0.0</td>\n",
       "      <td>0.0</td>\n",
       "      <td>0</td>\n",
       "      <td>0</td>\n",
       "      <td>30.063936</td>\n",
       "      <td>-81.707664</td>\n",
       "      <td>Residential</td>\n",
       "      <td>Masonry</td>\n",
       "      <td>3</td>\n",
       "    </tr>\n",
       "    <tr>\n",
       "      <th>206893</th>\n",
       "      <td>FL</td>\n",
       "      <td>CLAY COUNTY</td>\n",
       "      <td>190724.4</td>\n",
       "      <td>190724.40</td>\n",
       "      <td>190724.4</td>\n",
       "      <td>190724.4</td>\n",
       "      <td>190724.40</td>\n",
       "      <td>192476.78</td>\n",
       "      <td>0.0</td>\n",
       "      <td>0.0</td>\n",
       "      <td>0</td>\n",
       "      <td>0</td>\n",
       "      <td>30.089579</td>\n",
       "      <td>-81.700455</td>\n",
       "      <td>Residential</td>\n",
       "      <td>Wood</td>\n",
       "      <td>1</td>\n",
       "    </tr>\n",
       "    <tr>\n",
       "      <th>333743</th>\n",
       "      <td>FL</td>\n",
       "      <td>CLAY COUNTY</td>\n",
       "      <td>0.0</td>\n",
       "      <td>79520.76</td>\n",
       "      <td>0.0</td>\n",
       "      <td>0.0</td>\n",
       "      <td>79520.76</td>\n",
       "      <td>86854.48</td>\n",
       "      <td>0.0</td>\n",
       "      <td>0.0</td>\n",
       "      <td>0</td>\n",
       "      <td>0</td>\n",
       "      <td>30.063236</td>\n",
       "      <td>-81.707703</td>\n",
       "      <td>Residential</td>\n",
       "      <td>Wood</td>\n",
       "      <td>3</td>\n",
       "    </tr>\n",
       "    <tr>\n",
       "      <th>172534</th>\n",
       "      <td>FL</td>\n",
       "      <td>CLAY COUNTY</td>\n",
       "      <td>0.0</td>\n",
       "      <td>254281.50</td>\n",
       "      <td>0.0</td>\n",
       "      <td>254281.5</td>\n",
       "      <td>254281.50</td>\n",
       "      <td>246144.49</td>\n",
       "      <td>0.0</td>\n",
       "      <td>0.0</td>\n",
       "      <td>0</td>\n",
       "      <td>0</td>\n",
       "      <td>30.060614</td>\n",
       "      <td>-81.702675</td>\n",
       "      <td>Residential</td>\n",
       "      <td>Wood</td>\n",
       "      <td>1</td>\n",
       "    </tr>\n",
       "  </tbody>\n",
       "</table>\n",
       "</div>"
      ],
      "text/plain": [
       "         statecode       county  eq_site_limit  hu_site_limit  fl_site_limit  \\\n",
       "policyID                                                                       \n",
       "119736          FL  CLAY COUNTY       498960.0      498960.00       498960.0   \n",
       "448094          FL  CLAY COUNTY      1322376.3     1322376.30      1322376.3   \n",
       "206893          FL  CLAY COUNTY       190724.4      190724.40       190724.4   \n",
       "333743          FL  CLAY COUNTY            0.0       79520.76            0.0   \n",
       "172534          FL  CLAY COUNTY            0.0      254281.50            0.0   \n",
       "\n",
       "          fr_site_limit    tiv_2011    tiv_2012  eq_site_deductible  \\\n",
       "policyID                                                              \n",
       "119736         498960.0   498960.00   792148.90                 0.0   \n",
       "448094        1322376.3  1322376.30  1438163.57                 0.0   \n",
       "206893         190724.4   190724.40   192476.78                 0.0   \n",
       "333743              0.0    79520.76    86854.48                 0.0   \n",
       "172534         254281.5   254281.50   246144.49                 0.0   \n",
       "\n",
       "          hu_site_deductible  fl_site_deductible  fr_site_deductible  \\\n",
       "policyID                                                               \n",
       "119736                9979.2                   0                   0   \n",
       "448094                   0.0                   0                   0   \n",
       "206893                   0.0                   0                   0   \n",
       "333743                   0.0                   0                   0   \n",
       "172534                   0.0                   0                   0   \n",
       "\n",
       "          point_latitude  point_longitude         line construction  \\\n",
       "policyID                                                              \n",
       "119736         30.102261       -81.711777  Residential      Masonry   \n",
       "448094         30.063936       -81.707664  Residential      Masonry   \n",
       "206893         30.089579       -81.700455  Residential         Wood   \n",
       "333743         30.063236       -81.707703  Residential         Wood   \n",
       "172534         30.060614       -81.702675  Residential         Wood   \n",
       "\n",
       "          point_granularity  \n",
       "policyID                     \n",
       "119736                    1  \n",
       "448094                    3  \n",
       "206893                    1  \n",
       "333743                    3  \n",
       "172534                    1  "
      ]
     },
     "execution_count": 14,
     "metadata": {},
     "output_type": "execute_result"
    }
   ],
   "source": [
    "sales_store.head()"
   ]
  },
  {
   "cell_type": "code",
   "execution_count": 15,
   "id": "printable-employment",
   "metadata": {},
   "outputs": [
    {
     "name": "stderr",
     "output_type": "stream",
     "text": [
      "22 error(s) occurred while feeding the store Fl_insurance_sample. Check the store's loading_report for more details.\n"
     ]
    }
   ],
   "source": [
    "cube=session.create_cube(sales_store)"
   ]
  },
  {
   "cell_type": "code",
   "execution_count": 16,
   "id": "induced-collectible",
   "metadata": {},
   "outputs": [
    {
     "data": {
      "application/vnd.atoti.widget.v0+json": {
       "name": null,
       "session": "Unnamed"
      },
      "text/plain": [
       "Open the notebook in JupyterLab with the atoti extension installed and enabled to start editing this widget."
      ]
     },
     "metadata": {},
     "output_type": "display_data"
    }
   ],
   "source": [
    "session.visualize()"
   ]
  },
  {
   "cell_type": "code",
   "execution_count": 18,
   "id": "political-stadium",
   "metadata": {},
   "outputs": [
    {
     "data": {
      "text/plain": [
       "'http://localhost:57113'"
      ]
     },
     "execution_count": 18,
     "metadata": {},
     "output_type": "execute_result"
    }
   ],
   "source": [
    "session.url"
   ]
  }
 ],
 "metadata": {
  "kernelspec": {
   "display_name": "Python 3",
   "language": "python",
   "name": "python3"
  },
  "language_info": {
   "codemirror_mode": {
    "name": "ipython",
    "version": 3
   },
   "file_extension": ".py",
   "mimetype": "text/x-python",
   "name": "python",
   "nbconvert_exporter": "python",
   "pygments_lexer": "ipython3",
   "version": "3.8.5"
  }
 },
 "nbformat": 4,
 "nbformat_minor": 5
}
